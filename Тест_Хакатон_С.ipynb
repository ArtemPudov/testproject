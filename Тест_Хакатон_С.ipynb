{
  "nbformat": 4,
  "nbformat_minor": 0,
  "metadata": {
    "colab": {
      "name": "Тест Хакатон С",
      "provenance": [],
      "collapsed_sections": [],
      "authorship_tag": "ABX9TyNBsLnfKf6CrDeMwFYJs48X",
      "include_colab_link": true
    },
    "kernelspec": {
      "name": "python3",
      "display_name": "Python 3"
    },
    "language_info": {
      "name": "python"
    }
  },
  "cells": [
    {
      "cell_type": "markdown",
      "metadata": {
        "id": "view-in-github",
        "colab_type": "text"
      },
      "source": [
        "<a href=\"https://colab.research.google.com/github/ArtemPudov/testproject/blob/hack/%D0%A2%D0%B5%D1%81%D1%82_%D0%A5%D0%B0%D0%BA%D0%B0%D1%82%D0%BE%D0%BD_%D0%A1.ipynb\" target=\"_parent\"><img src=\"https://colab.research.google.com/assets/colab-badge.svg\" alt=\"Open In Colab\"/></a>"
      ]
    },
    {
      "cell_type": "code",
      "execution_count": null,
      "metadata": {
        "id": "RavXnFx6TGEa"
      },
      "outputs": [],
      "source": [
        "print('привет Хакатон')\n",
        "\n",
        "print('Вторая ветка теста')\n"
      ]
    },
    {
      "cell_type": "markdown",
      "source": [
        ""
      ],
      "metadata": {
        "id": "CY5xRKuccwwT"
      }
    }
  ]
}